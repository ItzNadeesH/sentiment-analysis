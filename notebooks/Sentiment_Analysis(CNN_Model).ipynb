{
  "cells": [
    {
      "cell_type": "markdown",
      "metadata": {
        "id": "gOlRi__A3HVj"
      },
      "source": [
        "**Step 1: Import Libraries and Load Data**"
      ]
    },
    {
      "cell_type": "code",
      "execution_count": 29,
      "metadata": {
        "colab": {
          "base_uri": "https://localhost:8080/"
        },
        "id": "_2OwcbL63NHd",
        "outputId": "28fbc5b1-898e-4111-c7a7-1953513f4b05"
      },
      "outputs": [
        {
          "output_type": "stream",
          "name": "stdout",
          "text": [
            "TensorFlow version: 2.19.0\n",
            "Downloading dataset...\n",
            "Using Colab cache for faster access to the 'imdb-dataset-of-50k-movie-reviews' dataset.\n",
            "Path to dataset files: /kaggle/input/imdb-dataset-of-50k-movie-reviews\n",
            "Dataset shape: (50000, 2)\n",
            "\n",
            "First few rows:\n",
            "                                              review sentiment\n",
            "0  One of the other reviewers has mentioned that ...  positive\n",
            "1  A wonderful little production. <br /><br />The...  positive\n",
            "2  I thought this was a wonderful way to spend ti...  positive\n",
            "3  Basically there's a family where a little boy ...  negative\n",
            "4  Petter Mattei's \"Love in the Time of Money\" is...  positive\n",
            "\n",
            "Sentiment distribution:\n",
            "sentiment\n",
            "positive    25000\n",
            "negative    25000\n",
            "Name: count, dtype: int64\n"
          ]
        }
      ],
      "source": [
        "# Import all required libraries\n",
        "import pandas as pd\n",
        "import numpy as np\n",
        "import tensorflow as tf\n",
        "from tensorflow.keras.preprocessing.text import Tokenizer\n",
        "from tensorflow.keras.preprocessing.sequence import pad_sequences\n",
        "from sklearn.model_selection import train_test_split\n",
        "from sklearn.preprocessing import LabelEncoder\n",
        "import matplotlib.pyplot as plt\n",
        "import kagglehub\n",
        "from tensorflow.keras.models import Sequential\n",
        "from tensorflow.keras.layers import Embedding, Conv1D, GlobalMaxPooling1D, Dense, Dropout, BatchNormalization\n",
        "from tensorflow.keras.regularizers import l2\n",
        "from tensorflow.keras.optimizers import Adam\n",
        "from tensorflow.keras.callbacks import EarlyStopping, ReduceLROnPlateau\n",
        "import warnings\n",
        "warnings.filterwarnings('ignore')\n",
        "\n",
        "# Check versions\n",
        "print(f\"TensorFlow version: {tf.__version__}\")\n",
        "\n",
        "# Download the dataset\n",
        "print(\"Downloading dataset...\")\n",
        "path = kagglehub.dataset_download(\"lakshmi25npathi/imdb-dataset-of-50k-movie-reviews\")\n",
        "print(f\"Path to dataset files: {path}\")\n",
        "\n",
        "# Load the dataset\n",
        "df = pd.read_csv(path + '/IMDB Dataset.csv')\n",
        "print(f\"Dataset shape: {df.shape}\")\n",
        "print(\"\\nFirst few rows:\")\n",
        "print(df.head())\n",
        "print(\"\\nSentiment distribution:\")\n",
        "print(df['sentiment'].value_counts())"
      ]
    },
    {
      "cell_type": "markdown",
      "metadata": {
        "id": "5Wo3Xp6t3idg"
      },
      "source": [
        "**Step 2: Data Preprocessing**"
      ]
    },
    {
      "cell_type": "code",
      "execution_count": 30,
      "metadata": {
        "colab": {
          "base_uri": "https://localhost:8080/"
        },
        "id": "jrmlf6643me1",
        "outputId": "a0929b76-1eba-4f9e-e5eb-e87055dd8510"
      },
      "outputs": [
        {
          "output_type": "stream",
          "name": "stdout",
          "text": [
            "Label mapping:\n",
            "{'negative': np.int64(0), 'positive': np.int64(1)}\n",
            "Sample cleaned review: one of the other reviewers has mentioned that after watching just 1 oz episode youll be hooked. they are right, as this is exactly what happened with me. the first thing that struck me about oz was it...\n"
          ]
        }
      ],
      "source": [
        "# Convert sentiments to numerical labels\n",
        "label_encoder = LabelEncoder()\n",
        "df['sentiment_label'] = label_encoder.fit_transform(df['sentiment'])\n",
        "\n",
        "print(\"Label mapping:\")\n",
        "print(dict(zip(label_encoder.classes_, label_encoder.transform(label_encoder.classes_))))\n",
        "\n",
        "# Enhanced text cleaning\n",
        "def clean_text(text):\n",
        "    if isinstance(text, str):\n",
        "        text = text.lower()\n",
        "        text = text.replace('<br />', ' ')  # Remove HTML tags\n",
        "        text = text.replace('\\n', ' ')      # Remove newlines\n",
        "        text = text.replace('\\t', ' ')      # Remove tabs\n",
        "        # Remove special characters but keep basic punctuation\n",
        "        text = ''.join(char for char in text if char.isalnum() or char in ' .,!?')\n",
        "        # Remove extra spaces\n",
        "        text = ' '.join(text.split())\n",
        "    return text\n",
        "\n",
        "df['cleaned_review'] = df['review'].apply(clean_text)\n",
        "\n",
        "print(f\"Sample cleaned review: {df['cleaned_review'].iloc[0][:200]}...\")"
      ]
    },
    {
      "cell_type": "markdown",
      "metadata": {
        "id": "UFc-MRjh3uFJ"
      },
      "source": [
        "**Step 3: Split the Dataset**"
      ]
    },
    {
      "cell_type": "code",
      "execution_count": 31,
      "metadata": {
        "colab": {
          "base_uri": "https://localhost:8080/"
        },
        "id": "lSQuTtH_3x4D",
        "outputId": "26490771-3fb9-4925-8dd9-8d517aaf7ad4"
      },
      "outputs": [
        {
          "output_type": "stream",
          "name": "stdout",
          "text": [
            "Training set: 40000 samples\n",
            "Validation set: 5000 samples\n",
            "Test set: 5000 samples\n"
          ]
        }
      ],
      "source": [
        "# Split the data into train, validation, and test sets\n",
        "X = df['cleaned_review']\n",
        "y = df['sentiment_label']\n",
        "\n",
        "# First split: 80% train, 20% temp\n",
        "X_train, X_temp, y_train, y_temp = train_test_split(\n",
        "    X, y, test_size=0.2, random_state=42, stratify=y\n",
        ")\n",
        "\n",
        "# Second split: 50% validation, 50% test (from the 20%)\n",
        "X_val, X_test, y_val, y_test = train_test_split(\n",
        "    X_temp, y_temp, test_size=0.5, random_state=42, stratify=y_temp\n",
        ")\n",
        "\n",
        "print(f\"Training set: {X_train.shape[0]} samples\")\n",
        "print(f\"Validation set: {X_val.shape[0]} samples\")\n",
        "print(f\"Test set: {X_test.shape[0]} samples\")"
      ]
    },
    {
      "cell_type": "markdown",
      "metadata": {
        "id": "vCFiukc2323t"
      },
      "source": [
        "**Step 4: Tokenization and Sequence Preparation**"
      ]
    },
    {
      "cell_type": "code",
      "execution_count": 32,
      "metadata": {
        "colab": {
          "base_uri": "https://localhost:8080/"
        },
        "id": "iPt9LcT537Su",
        "outputId": "a8f8685c-7e65-4df9-f0cf-00278df8c936"
      },
      "outputs": [
        {
          "output_type": "stream",
          "name": "stdout",
          "text": [
            "Training sequences shape: (40000, 300)\n",
            "Validation sequences shape: (5000, 300)\n",
            "Test sequences shape: (5000, 300)\n",
            "Vocabulary size used: 20000\n"
          ]
        }
      ],
      "source": [
        "# Tokenize the text\n",
        "vocab_size = 20000  # Increased vocabulary for CNN\n",
        "max_length = 300    # Slightly longer sequences for CNN\n",
        "oov_token = \"<OOV>\"\n",
        "\n",
        "tokenizer = Tokenizer(num_words=vocab_size, oov_token=oov_token, filters='')\n",
        "tokenizer.fit_on_texts(X_train)\n",
        "\n",
        "# Convert texts to sequences\n",
        "X_train_seq = tokenizer.texts_to_sequences(X_train)\n",
        "X_val_seq = tokenizer.texts_to_sequences(X_val)\n",
        "X_test_seq = tokenizer.texts_to_sequences(X_test)\n",
        "\n",
        "# Pad sequences to ensure uniform length\n",
        "X_train_pad = pad_sequences(X_train_seq, maxlen=max_length, padding='post', truncating='post')\n",
        "X_val_pad = pad_sequences(X_val_seq, maxlen=max_length, padding='post', truncating='post')\n",
        "X_test_pad = pad_sequences(X_test_seq, maxlen=max_length, padding='post', truncating='post')\n",
        "\n",
        "print(f\"Training sequences shape: {X_train_pad.shape}\")\n",
        "print(f\"Validation sequences shape: {X_val_pad.shape}\")\n",
        "print(f\"Test sequences shape: {X_test_pad.shape}\")\n",
        "print(f\"Vocabulary size used: {min(vocab_size, len(tokenizer.word_index))}\")"
      ]
    },
    {
      "cell_type": "markdown",
      "metadata": {
        "id": "K6-QKdP_3-yk"
      },
      "source": [
        "**Step 5: Build the CNN Model**"
      ]
    },
    {
      "cell_type": "code",
      "execution_count": 33,
      "metadata": {
        "colab": {
          "base_uri": "https://localhost:8080/",
          "height": 757
        },
        "id": "JQnDaRet4B9t",
        "outputId": "e4c0fee6-c549-46f7-e34e-1314f32acbc6"
      },
      "outputs": [
        {
          "output_type": "stream",
          "name": "stdout",
          "text": [
            "Creating CNN model...\n",
            "CNN Model Architecture:\n"
          ]
        },
        {
          "output_type": "display_data",
          "data": {
            "text/plain": [
              "\u001b[1mModel: \"sequential_3\"\u001b[0m\n"
            ],
            "text/html": [
              "<pre style=\"white-space:pre;overflow-x:auto;line-height:normal;font-family:Menlo,'DejaVu Sans Mono',consolas,'Courier New',monospace\"><span style=\"font-weight: bold\">Model: \"sequential_3\"</span>\n",
              "</pre>\n"
            ]
          },
          "metadata": {}
        },
        {
          "output_type": "display_data",
          "data": {
            "text/plain": [
              "┏━━━━━━━━━━━━━━━━━━━━━━━━━━━━━━━━━┳━━━━━━━━━━━━━━━━━━━━━━━━┳━━━━━━━━━━━━━━━┓\n",
              "┃\u001b[1m \u001b[0m\u001b[1mLayer (type)                   \u001b[0m\u001b[1m \u001b[0m┃\u001b[1m \u001b[0m\u001b[1mOutput Shape          \u001b[0m\u001b[1m \u001b[0m┃\u001b[1m \u001b[0m\u001b[1m      Param #\u001b[0m\u001b[1m \u001b[0m┃\n",
              "┡━━━━━━━━━━━━━━━━━━━━━━━━━━━━━━━━━╇━━━━━━━━━━━━━━━━━━━━━━━━╇━━━━━━━━━━━━━━━┩\n",
              "│ embedding_layer (\u001b[38;5;33mEmbedding\u001b[0m)     │ (\u001b[38;5;45mNone\u001b[0m, \u001b[38;5;34m300\u001b[0m, \u001b[38;5;34m100\u001b[0m)       │     \u001b[38;5;34m2,000,000\u001b[0m │\n",
              "├─────────────────────────────────┼────────────────────────┼───────────────┤\n",
              "│ conv1d_layer_1 (\u001b[38;5;33mConv1D\u001b[0m)         │ (\u001b[38;5;45mNone\u001b[0m, \u001b[38;5;34m300\u001b[0m, \u001b[38;5;34m128\u001b[0m)       │        \u001b[38;5;34m64,128\u001b[0m │\n",
              "├─────────────────────────────────┼────────────────────────┼───────────────┤\n",
              "│ batchnorm_1                     │ (\u001b[38;5;45mNone\u001b[0m, \u001b[38;5;34m300\u001b[0m, \u001b[38;5;34m128\u001b[0m)       │           \u001b[38;5;34m512\u001b[0m │\n",
              "│ (\u001b[38;5;33mBatchNormalization\u001b[0m)            │                        │               │\n",
              "├─────────────────────────────────┼────────────────────────┼───────────────┤\n",
              "│ dropout_1 (\u001b[38;5;33mDropout\u001b[0m)             │ (\u001b[38;5;45mNone\u001b[0m, \u001b[38;5;34m300\u001b[0m, \u001b[38;5;34m128\u001b[0m)       │             \u001b[38;5;34m0\u001b[0m │\n",
              "├─────────────────────────────────┼────────────────────────┼───────────────┤\n",
              "│ conv1d_layer_2 (\u001b[38;5;33mConv1D\u001b[0m)         │ (\u001b[38;5;45mNone\u001b[0m, \u001b[38;5;34m300\u001b[0m, \u001b[38;5;34m64\u001b[0m)        │        \u001b[38;5;34m32,832\u001b[0m │\n",
              "├─────────────────────────────────┼────────────────────────┼───────────────┤\n",
              "│ batchnorm_2                     │ (\u001b[38;5;45mNone\u001b[0m, \u001b[38;5;34m300\u001b[0m, \u001b[38;5;34m64\u001b[0m)        │           \u001b[38;5;34m256\u001b[0m │\n",
              "│ (\u001b[38;5;33mBatchNormalization\u001b[0m)            │                        │               │\n",
              "├─────────────────────────────────┼────────────────────────┼───────────────┤\n",
              "│ dropout_2 (\u001b[38;5;33mDropout\u001b[0m)             │ (\u001b[38;5;45mNone\u001b[0m, \u001b[38;5;34m300\u001b[0m, \u001b[38;5;34m64\u001b[0m)        │             \u001b[38;5;34m0\u001b[0m │\n",
              "├─────────────────────────────────┼────────────────────────┼───────────────┤\n",
              "│ conv1d_layer_3 (\u001b[38;5;33mConv1D\u001b[0m)         │ (\u001b[38;5;45mNone\u001b[0m, \u001b[38;5;34m300\u001b[0m, \u001b[38;5;34m32\u001b[0m)        │         \u001b[38;5;34m6,176\u001b[0m │\n",
              "├─────────────────────────────────┼────────────────────────┼───────────────┤\n",
              "│ batchnorm_3                     │ (\u001b[38;5;45mNone\u001b[0m, \u001b[38;5;34m300\u001b[0m, \u001b[38;5;34m32\u001b[0m)        │           \u001b[38;5;34m128\u001b[0m │\n",
              "│ (\u001b[38;5;33mBatchNormalization\u001b[0m)            │                        │               │\n",
              "├─────────────────────────────────┼────────────────────────┼───────────────┤\n",
              "│ global_max_pooling              │ (\u001b[38;5;45mNone\u001b[0m, \u001b[38;5;34m32\u001b[0m)             │             \u001b[38;5;34m0\u001b[0m │\n",
              "│ (\u001b[38;5;33mGlobalMaxPooling1D\u001b[0m)            │                        │               │\n",
              "├─────────────────────────────────┼────────────────────────┼───────────────┤\n",
              "│ dense_1 (\u001b[38;5;33mDense\u001b[0m)                 │ (\u001b[38;5;45mNone\u001b[0m, \u001b[38;5;34m64\u001b[0m)             │         \u001b[38;5;34m2,112\u001b[0m │\n",
              "├─────────────────────────────────┼────────────────────────┼───────────────┤\n",
              "│ batchnorm_4                     │ (\u001b[38;5;45mNone\u001b[0m, \u001b[38;5;34m64\u001b[0m)             │           \u001b[38;5;34m256\u001b[0m │\n",
              "│ (\u001b[38;5;33mBatchNormalization\u001b[0m)            │                        │               │\n",
              "├─────────────────────────────────┼────────────────────────┼───────────────┤\n",
              "│ dropout_3 (\u001b[38;5;33mDropout\u001b[0m)             │ (\u001b[38;5;45mNone\u001b[0m, \u001b[38;5;34m64\u001b[0m)             │             \u001b[38;5;34m0\u001b[0m │\n",
              "├─────────────────────────────────┼────────────────────────┼───────────────┤\n",
              "│ dense_2 (\u001b[38;5;33mDense\u001b[0m)                 │ (\u001b[38;5;45mNone\u001b[0m, \u001b[38;5;34m32\u001b[0m)             │         \u001b[38;5;34m2,080\u001b[0m │\n",
              "├─────────────────────────────────┼────────────────────────┼───────────────┤\n",
              "│ dropout_4 (\u001b[38;5;33mDropout\u001b[0m)             │ (\u001b[38;5;45mNone\u001b[0m, \u001b[38;5;34m32\u001b[0m)             │             \u001b[38;5;34m0\u001b[0m │\n",
              "├─────────────────────────────────┼────────────────────────┼───────────────┤\n",
              "│ output_layer (\u001b[38;5;33mDense\u001b[0m)            │ (\u001b[38;5;45mNone\u001b[0m, \u001b[38;5;34m1\u001b[0m)              │            \u001b[38;5;34m33\u001b[0m │\n",
              "└─────────────────────────────────┴────────────────────────┴───────────────┘\n"
            ],
            "text/html": [
              "<pre style=\"white-space:pre;overflow-x:auto;line-height:normal;font-family:Menlo,'DejaVu Sans Mono',consolas,'Courier New',monospace\">┏━━━━━━━━━━━━━━━━━━━━━━━━━━━━━━━━━┳━━━━━━━━━━━━━━━━━━━━━━━━┳━━━━━━━━━━━━━━━┓\n",
              "┃<span style=\"font-weight: bold\"> Layer (type)                    </span>┃<span style=\"font-weight: bold\"> Output Shape           </span>┃<span style=\"font-weight: bold\">       Param # </span>┃\n",
              "┡━━━━━━━━━━━━━━━━━━━━━━━━━━━━━━━━━╇━━━━━━━━━━━━━━━━━━━━━━━━╇━━━━━━━━━━━━━━━┩\n",
              "│ embedding_layer (<span style=\"color: #0087ff; text-decoration-color: #0087ff\">Embedding</span>)     │ (<span style=\"color: #00d7ff; text-decoration-color: #00d7ff\">None</span>, <span style=\"color: #00af00; text-decoration-color: #00af00\">300</span>, <span style=\"color: #00af00; text-decoration-color: #00af00\">100</span>)       │     <span style=\"color: #00af00; text-decoration-color: #00af00\">2,000,000</span> │\n",
              "├─────────────────────────────────┼────────────────────────┼───────────────┤\n",
              "│ conv1d_layer_1 (<span style=\"color: #0087ff; text-decoration-color: #0087ff\">Conv1D</span>)         │ (<span style=\"color: #00d7ff; text-decoration-color: #00d7ff\">None</span>, <span style=\"color: #00af00; text-decoration-color: #00af00\">300</span>, <span style=\"color: #00af00; text-decoration-color: #00af00\">128</span>)       │        <span style=\"color: #00af00; text-decoration-color: #00af00\">64,128</span> │\n",
              "├─────────────────────────────────┼────────────────────────┼───────────────┤\n",
              "│ batchnorm_1                     │ (<span style=\"color: #00d7ff; text-decoration-color: #00d7ff\">None</span>, <span style=\"color: #00af00; text-decoration-color: #00af00\">300</span>, <span style=\"color: #00af00; text-decoration-color: #00af00\">128</span>)       │           <span style=\"color: #00af00; text-decoration-color: #00af00\">512</span> │\n",
              "│ (<span style=\"color: #0087ff; text-decoration-color: #0087ff\">BatchNormalization</span>)            │                        │               │\n",
              "├─────────────────────────────────┼────────────────────────┼───────────────┤\n",
              "│ dropout_1 (<span style=\"color: #0087ff; text-decoration-color: #0087ff\">Dropout</span>)             │ (<span style=\"color: #00d7ff; text-decoration-color: #00d7ff\">None</span>, <span style=\"color: #00af00; text-decoration-color: #00af00\">300</span>, <span style=\"color: #00af00; text-decoration-color: #00af00\">128</span>)       │             <span style=\"color: #00af00; text-decoration-color: #00af00\">0</span> │\n",
              "├─────────────────────────────────┼────────────────────────┼───────────────┤\n",
              "│ conv1d_layer_2 (<span style=\"color: #0087ff; text-decoration-color: #0087ff\">Conv1D</span>)         │ (<span style=\"color: #00d7ff; text-decoration-color: #00d7ff\">None</span>, <span style=\"color: #00af00; text-decoration-color: #00af00\">300</span>, <span style=\"color: #00af00; text-decoration-color: #00af00\">64</span>)        │        <span style=\"color: #00af00; text-decoration-color: #00af00\">32,832</span> │\n",
              "├─────────────────────────────────┼────────────────────────┼───────────────┤\n",
              "│ batchnorm_2                     │ (<span style=\"color: #00d7ff; text-decoration-color: #00d7ff\">None</span>, <span style=\"color: #00af00; text-decoration-color: #00af00\">300</span>, <span style=\"color: #00af00; text-decoration-color: #00af00\">64</span>)        │           <span style=\"color: #00af00; text-decoration-color: #00af00\">256</span> │\n",
              "│ (<span style=\"color: #0087ff; text-decoration-color: #0087ff\">BatchNormalization</span>)            │                        │               │\n",
              "├─────────────────────────────────┼────────────────────────┼───────────────┤\n",
              "│ dropout_2 (<span style=\"color: #0087ff; text-decoration-color: #0087ff\">Dropout</span>)             │ (<span style=\"color: #00d7ff; text-decoration-color: #00d7ff\">None</span>, <span style=\"color: #00af00; text-decoration-color: #00af00\">300</span>, <span style=\"color: #00af00; text-decoration-color: #00af00\">64</span>)        │             <span style=\"color: #00af00; text-decoration-color: #00af00\">0</span> │\n",
              "├─────────────────────────────────┼────────────────────────┼───────────────┤\n",
              "│ conv1d_layer_3 (<span style=\"color: #0087ff; text-decoration-color: #0087ff\">Conv1D</span>)         │ (<span style=\"color: #00d7ff; text-decoration-color: #00d7ff\">None</span>, <span style=\"color: #00af00; text-decoration-color: #00af00\">300</span>, <span style=\"color: #00af00; text-decoration-color: #00af00\">32</span>)        │         <span style=\"color: #00af00; text-decoration-color: #00af00\">6,176</span> │\n",
              "├─────────────────────────────────┼────────────────────────┼───────────────┤\n",
              "│ batchnorm_3                     │ (<span style=\"color: #00d7ff; text-decoration-color: #00d7ff\">None</span>, <span style=\"color: #00af00; text-decoration-color: #00af00\">300</span>, <span style=\"color: #00af00; text-decoration-color: #00af00\">32</span>)        │           <span style=\"color: #00af00; text-decoration-color: #00af00\">128</span> │\n",
              "│ (<span style=\"color: #0087ff; text-decoration-color: #0087ff\">BatchNormalization</span>)            │                        │               │\n",
              "├─────────────────────────────────┼────────────────────────┼───────────────┤\n",
              "│ global_max_pooling              │ (<span style=\"color: #00d7ff; text-decoration-color: #00d7ff\">None</span>, <span style=\"color: #00af00; text-decoration-color: #00af00\">32</span>)             │             <span style=\"color: #00af00; text-decoration-color: #00af00\">0</span> │\n",
              "│ (<span style=\"color: #0087ff; text-decoration-color: #0087ff\">GlobalMaxPooling1D</span>)            │                        │               │\n",
              "├─────────────────────────────────┼────────────────────────┼───────────────┤\n",
              "│ dense_1 (<span style=\"color: #0087ff; text-decoration-color: #0087ff\">Dense</span>)                 │ (<span style=\"color: #00d7ff; text-decoration-color: #00d7ff\">None</span>, <span style=\"color: #00af00; text-decoration-color: #00af00\">64</span>)             │         <span style=\"color: #00af00; text-decoration-color: #00af00\">2,112</span> │\n",
              "├─────────────────────────────────┼────────────────────────┼───────────────┤\n",
              "│ batchnorm_4                     │ (<span style=\"color: #00d7ff; text-decoration-color: #00d7ff\">None</span>, <span style=\"color: #00af00; text-decoration-color: #00af00\">64</span>)             │           <span style=\"color: #00af00; text-decoration-color: #00af00\">256</span> │\n",
              "│ (<span style=\"color: #0087ff; text-decoration-color: #0087ff\">BatchNormalization</span>)            │                        │               │\n",
              "├─────────────────────────────────┼────────────────────────┼───────────────┤\n",
              "│ dropout_3 (<span style=\"color: #0087ff; text-decoration-color: #0087ff\">Dropout</span>)             │ (<span style=\"color: #00d7ff; text-decoration-color: #00d7ff\">None</span>, <span style=\"color: #00af00; text-decoration-color: #00af00\">64</span>)             │             <span style=\"color: #00af00; text-decoration-color: #00af00\">0</span> │\n",
              "├─────────────────────────────────┼────────────────────────┼───────────────┤\n",
              "│ dense_2 (<span style=\"color: #0087ff; text-decoration-color: #0087ff\">Dense</span>)                 │ (<span style=\"color: #00d7ff; text-decoration-color: #00d7ff\">None</span>, <span style=\"color: #00af00; text-decoration-color: #00af00\">32</span>)             │         <span style=\"color: #00af00; text-decoration-color: #00af00\">2,080</span> │\n",
              "├─────────────────────────────────┼────────────────────────┼───────────────┤\n",
              "│ dropout_4 (<span style=\"color: #0087ff; text-decoration-color: #0087ff\">Dropout</span>)             │ (<span style=\"color: #00d7ff; text-decoration-color: #00d7ff\">None</span>, <span style=\"color: #00af00; text-decoration-color: #00af00\">32</span>)             │             <span style=\"color: #00af00; text-decoration-color: #00af00\">0</span> │\n",
              "├─────────────────────────────────┼────────────────────────┼───────────────┤\n",
              "│ output_layer (<span style=\"color: #0087ff; text-decoration-color: #0087ff\">Dense</span>)            │ (<span style=\"color: #00d7ff; text-decoration-color: #00d7ff\">None</span>, <span style=\"color: #00af00; text-decoration-color: #00af00\">1</span>)              │            <span style=\"color: #00af00; text-decoration-color: #00af00\">33</span> │\n",
              "└─────────────────────────────────┴────────────────────────┴───────────────┘\n",
              "</pre>\n"
            ]
          },
          "metadata": {}
        },
        {
          "output_type": "display_data",
          "data": {
            "text/plain": [
              "\u001b[1m Total params: \u001b[0m\u001b[38;5;34m2,108,513\u001b[0m (8.04 MB)\n"
            ],
            "text/html": [
              "<pre style=\"white-space:pre;overflow-x:auto;line-height:normal;font-family:Menlo,'DejaVu Sans Mono',consolas,'Courier New',monospace\"><span style=\"font-weight: bold\"> Total params: </span><span style=\"color: #00af00; text-decoration-color: #00af00\">2,108,513</span> (8.04 MB)\n",
              "</pre>\n"
            ]
          },
          "metadata": {}
        },
        {
          "output_type": "display_data",
          "data": {
            "text/plain": [
              "\u001b[1m Trainable params: \u001b[0m\u001b[38;5;34m2,107,937\u001b[0m (8.04 MB)\n"
            ],
            "text/html": [
              "<pre style=\"white-space:pre;overflow-x:auto;line-height:normal;font-family:Menlo,'DejaVu Sans Mono',consolas,'Courier New',monospace\"><span style=\"font-weight: bold\"> Trainable params: </span><span style=\"color: #00af00; text-decoration-color: #00af00\">2,107,937</span> (8.04 MB)\n",
              "</pre>\n"
            ]
          },
          "metadata": {}
        },
        {
          "output_type": "display_data",
          "data": {
            "text/plain": [
              "\u001b[1m Non-trainable params: \u001b[0m\u001b[38;5;34m576\u001b[0m (2.25 KB)\n"
            ],
            "text/html": [
              "<pre style=\"white-space:pre;overflow-x:auto;line-height:normal;font-family:Menlo,'DejaVu Sans Mono',consolas,'Courier New',monospace\"><span style=\"font-weight: bold\"> Non-trainable params: </span><span style=\"color: #00af00; text-decoration-color: #00af00\">576</span> (2.25 KB)\n",
              "</pre>\n"
            ]
          },
          "metadata": {}
        }
      ],
      "source": [
        "from tensorflow.keras.models import Sequential\n",
        "from tensorflow.keras.layers import Embedding, Conv1D, BatchNormalization, Dropout, GlobalMaxPooling1D, Dense\n",
        "from tensorflow.keras.regularizers import l1_l2\n",
        "from tensorflow.keras.optimizers import Adam\n",
        "\n",
        "def create_cnn_model(vocab_size, max_length, embedding_dim=100, num_filters=128):\n",
        "    model = Sequential([\n",
        "        # Embedding layer - FIXED: Remove input_length to avoid deprecation warning\n",
        "        Embedding(\n",
        "            input_dim=vocab_size,\n",
        "            output_dim=embedding_dim,\n",
        "            name='embedding_layer'\n",
        "        ),\n",
        "\n",
        "        # First Conv1D layer\n",
        "        Conv1D(\n",
        "            filters=num_filters,\n",
        "            kernel_size=5,\n",
        "            activation='relu',\n",
        "            padding='same',\n",
        "            kernel_regularizer=l2(0.001),\n",
        "            name='conv1d_layer_1'\n",
        "        ),\n",
        "        BatchNormalization(name='batchnorm_1'),\n",
        "        Dropout(0.3, name='dropout_1'),\n",
        "\n",
        "        # Second Conv1D layer\n",
        "        Conv1D(\n",
        "            filters=num_filters//2,\n",
        "            kernel_size=4,\n",
        "            activation='relu',\n",
        "            padding='same',\n",
        "            kernel_regularizer=l2(0.001),\n",
        "            name='conv1d_layer_2'\n",
        "        ),\n",
        "        BatchNormalization(name='batchnorm_2'),\n",
        "        Dropout(0.3, name='dropout_2'),\n",
        "\n",
        "        # Third Conv1D layer\n",
        "        Conv1D(\n",
        "            filters=num_filters//4,\n",
        "            kernel_size=3,\n",
        "            activation='relu',\n",
        "            padding='same',\n",
        "            kernel_regularizer=l2(0.001),\n",
        "            name='conv1d_layer_3'\n",
        "        ),\n",
        "        BatchNormalization(name='batchnorm_3'),\n",
        "\n",
        "        # Global Max Pooling - FIXED: Corrected spelling\n",
        "        GlobalMaxPooling1D(name='global_max_pooling'),\n",
        "\n",
        "        # Dense layers\n",
        "        Dense(64, activation='relu', kernel_regularizer=l2(0.001), name='dense_1'),\n",
        "        BatchNormalization(name='batchnorm_4'),\n",
        "        Dropout(0.5, name='dropout_3'),\n",
        "\n",
        "        Dense(32, activation='relu', kernel_regularizer=l2(0.001), name='dense_2'),\n",
        "        Dropout(0.3, name='dropout_4'),\n",
        "\n",
        "        # Output layer\n",
        "        Dense(1, activation='sigmoid', name='output_layer')\n",
        "    ])\n",
        "\n",
        "    return model\n",
        "\n",
        "# Create the CNN model\n",
        "embedding_dim = 100\n",
        "num_filters = 128\n",
        "\n",
        "print(\"Creating CNN model...\")\n",
        "model = create_cnn_model(vocab_size, max_length, embedding_dim, num_filters)\n",
        "\n",
        "# CRITICAL FIX: Build the model with input shape before compiling\n",
        "model.build(input_shape=(None, max_length))\n",
        "\n",
        "# Compile the model\n",
        "model.compile(\n",
        "    optimizer=Adam(learning_rate=0.001),\n",
        "    loss='binary_crossentropy',\n",
        "    metrics=['accuracy']\n",
        ")\n",
        "\n",
        "# Display model architecture\n",
        "print(\"CNN Model Architecture:\")\n",
        "model.summary()"
      ]
    },
    {
      "cell_type": "markdown",
      "metadata": {
        "id": "l4tfL6Hl43vz"
      },
      "source": [
        "**Step 6: Train the CNN Model**"
      ]
    },
    {
      "cell_type": "code",
      "execution_count": 34,
      "metadata": {
        "colab": {
          "base_uri": "https://localhost:8080/"
        },
        "id": "OE0WmhUT49Lx",
        "outputId": "d2625323-e33d-4ab9-e632-9bee3eab8097"
      },
      "outputs": [
        {
          "output_type": "stream",
          "name": "stdout",
          "text": [
            "Starting CNN model training...\n",
            "Epoch 1/5\n",
            "\u001b[1m625/625\u001b[0m \u001b[32m━━━━━━━━━━━━━━━━━━━━\u001b[0m\u001b[37m\u001b[0m \u001b[1m248s\u001b[0m 390ms/step - accuracy: 0.5049 - loss: 1.1070 - val_accuracy: 0.5252 - val_loss: 1.1167 - learning_rate: 0.0010\n",
            "Epoch 2/5\n",
            "\u001b[1m625/625\u001b[0m \u001b[32m━━━━━━━━━━━━━━━━━━━━\u001b[0m\u001b[37m\u001b[0m \u001b[1m257s\u001b[0m 383ms/step - accuracy: 0.7261 - loss: 0.8082 - val_accuracy: 0.8330 - val_loss: 0.6049 - learning_rate: 0.0010\n",
            "Epoch 3/5\n",
            "\u001b[1m625/625\u001b[0m \u001b[32m━━━━━━━━━━━━━━━━━━━━\u001b[0m\u001b[37m\u001b[0m \u001b[1m242s\u001b[0m 388ms/step - accuracy: 0.8816 - loss: 0.5241 - val_accuracy: 0.8534 - val_loss: 0.5290 - learning_rate: 0.0010\n",
            "Epoch 4/5\n",
            "\u001b[1m625/625\u001b[0m \u001b[32m━━━━━━━━━━━━━━━━━━━━\u001b[0m\u001b[37m\u001b[0m \u001b[1m258s\u001b[0m 382ms/step - accuracy: 0.9190 - loss: 0.3973 - val_accuracy: 0.8664 - val_loss: 0.4611 - learning_rate: 0.0010\n",
            "Epoch 5/5\n",
            "\u001b[1m625/625\u001b[0m \u001b[32m━━━━━━━━━━━━━━━━━━━━\u001b[0m\u001b[37m\u001b[0m \u001b[1m260s\u001b[0m 380ms/step - accuracy: 0.9400 - loss: 0.3090 - val_accuracy: 0.8694 - val_loss: 0.4390 - learning_rate: 0.0010\n",
            "Restoring model weights from the end of the best epoch: 5.\n",
            "CNN training completed!\n"
          ]
        }
      ],
      "source": [
        "# Set up callbacks\n",
        "early_stopping = EarlyStopping(\n",
        "    monitor='val_loss',\n",
        "    patience=5,\n",
        "    restore_best_weights=True,\n",
        "    verbose=1\n",
        ")\n",
        "\n",
        "reduce_lr = ReduceLROnPlateau(\n",
        "    monitor='val_loss',\n",
        "    factor=0.2,\n",
        "    patience=3,\n",
        "    min_lr=0.00001,\n",
        "    verbose=1\n",
        ")\n",
        "\n",
        "print(\"Starting CNN model training...\")\n",
        "\n",
        "# Train the model\n",
        "history = model.fit(\n",
        "    X_train_pad,\n",
        "    y_train,\n",
        "    epochs=5,\n",
        "    batch_size=64,  # Larger batch size for CNN\n",
        "    validation_data=(X_val_pad, y_val),\n",
        "    callbacks=[early_stopping, reduce_lr],\n",
        "    verbose=1\n",
        ")\n",
        "\n",
        "print(\"CNN training completed!\")"
      ]
    },
    {
      "cell_type": "markdown",
      "metadata": {
        "id": "4iKr6s6H5IJ9"
      },
      "source": [
        "**Step 7: Evaluate the CNN Model**"
      ]
    },
    {
      "cell_type": "code",
      "execution_count": 35,
      "metadata": {
        "colab": {
          "base_uri": "https://localhost:8080/",
          "height": 738
        },
        "id": "EtZAof645MdG",
        "outputId": "deb32784-9ed6-4d62-931e-88e765eecf9a"
      },
      "outputs": [
        {
          "output_type": "stream",
          "name": "stdout",
          "text": [
            "Test Loss: 0.4454\n",
            "Test Accuracy: 0.8656\n",
            "F1-Score: 0.8729\n",
            "Precision: 0.8278\n",
            "Recall: 0.9232\n",
            "\n",
            "Classification Report:\n",
            "              precision    recall  f1-score   support\n",
            "\n",
            "    negative       0.91      0.81      0.86      2500\n",
            "    positive       0.83      0.92      0.87      2500\n",
            "\n",
            "    accuracy                           0.87      5000\n",
            "   macro avg       0.87      0.87      0.87      5000\n",
            "weighted avg       0.87      0.87      0.87      5000\n",
            "\n",
            "\n",
            "Overall Test Accuracy: 0.8656\n"
          ]
        },
        {
          "output_type": "display_data",
          "data": {
            "text/plain": [
              "<Figure size 600x400 with 2 Axes>"
            ],
            "image/png": "[encoded data removed]"
          },
          "metadata": {}
        }
      ],
      "source": [
        "# Evaluate on test set\n",
        "test_loss, test_accuracy = model.evaluate(X_test_pad, y_test, verbose=0)\n",
        "print(f\"Test Loss: {test_loss:.4f}\")\n",
        "print(f\"Test Accuracy: {test_accuracy:.4f}\")\n",
        "\n",
        "# Make predictions\n",
        "y_pred_proba = model.predict(X_test_pad, verbose=0)\n",
        "y_pred = (y_pred_proba > 0.5).astype(int).flatten()\n",
        "\n",
        "# Additional metrics\n",
        "from sklearn.metrics import classification_report, confusion_matrix, accuracy_score, f1_score, precision_score, recall_score\n",
        "import seaborn as sns\n",
        "import matplotlib.pyplot as plt\n",
        "\n",
        "# Calculate F1-Score, Precision, and Recall\n",
        "f1 = f1_score(y_test, y_pred)\n",
        "precision = precision_score(y_test, y_pred)\n",
        "recall = recall_score(y_test, y_pred)\n",
        "\n",
        "print(f'F1-Score: {f1:.4f}')\n",
        "print(f'Precision: {precision:.4f}')\n",
        "print(f'Recall: {recall:.4f}')\n",
        "\n",
        "print(\"\\nClassification Report:\")\n",
        "print(classification_report(y_test, y_pred, target_names=label_encoder.classes_))\n",
        "\n",
        "print(f\"\\nOverall Test Accuracy: {accuracy_score(y_test, y_pred):.4f}\")\n",
        "\n",
        "# Confusion Matrix\n",
        "cm = confusion_matrix(y_test, y_pred)\n",
        "\n",
        "# Plot confusion matrix as heatmap\n",
        "plt.figure(figsize=(6, 4))\n",
        "sns.heatmap(cm, annot=True, fmt='d', cmap='Blues', xticklabels=['Negative', 'Positive'], yticklabels=['Negative', 'Positive'])\n",
        "plt.xlabel('Predicted')\n",
        "plt.ylabel('Actual')\n",
        "plt.title('Confusion Matrix')\n",
        "plt.show()"
      ]
    },
    {
      "cell_type": "markdown",
      "metadata": {
        "id": "mlbOYEBF5nIu"
      },
      "source": [
        "**Step 8: Plot Training History**"
      ]
    },
    {
      "cell_type": "code",
      "execution_count": 36,
      "metadata": {
        "colab": {
          "base_uri": "https://localhost:8080/",
          "height": 580
        },
        "id": "eqJNMNUc5qus",
        "outputId": "ad4f561a-a39d-4a78-88bf-5c37ab4de480"
      },
      "outputs": [
        {
          "output_type": "display_data",
          "data": {
            "text/plain": [
              "<Figure size 1500x500 with 2 Axes>"
            ],
            "image/png": "[encoded data removed]"
          },
          "metadata": {}
        },
        {
          "output_type": "stream",
          "name": "stdout",
          "text": [
            "\n",
            "Final Training Accuracy: 0.9343\n",
            "Final Validation Accuracy: 0.8694\n",
            "Final Test Accuracy: 0.8656\n"
          ]
        }
      ],
      "source": [
        "def plot_cnn_training_history(history):\n",
        "    fig, (ax1, ax2) = plt.subplots(1, 2, figsize=(15, 5))\n",
        "\n",
        "    # Plot accuracy\n",
        "    ax1.plot(history.history['accuracy'], label='Training Accuracy', linewidth=2)\n",
        "    ax1.plot(history.history['val_accuracy'], label='Validation Accuracy', linewidth=2)\n",
        "    ax1.set_title('CNN Model Accuracy', fontsize=14, fontweight='bold')\n",
        "    ax1.set_xlabel('Epoch', fontsize=12)\n",
        "    ax1.set_ylabel('Accuracy', fontsize=12)\n",
        "    ax1.legend(fontsize=10)\n",
        "    ax1.grid(True, alpha=0.3)\n",
        "\n",
        "    # Plot loss\n",
        "    ax2.plot(history.history['loss'], label='Training Loss', linewidth=2)\n",
        "    ax2.plot(history.history['val_loss'], label='Validation Loss', linewidth=2)\n",
        "    ax2.set_title('CNN Model Loss', fontsize=14, fontweight='bold')\n",
        "    ax2.set_xlabel('Epoch', fontsize=12)\n",
        "    ax2.set_ylabel('Loss', fontsize=12)\n",
        "    ax2.legend(fontsize=10)\n",
        "    ax2.grid(True, alpha=0.3)\n",
        "\n",
        "    plt.tight_layout()\n",
        "    plt.show()\n",
        "\n",
        "plot_cnn_training_history(history)\n",
        "\n",
        "# Print final metrics\n",
        "final_train_accuracy = history.history['accuracy'][-1]\n",
        "final_val_accuracy = history.history['val_accuracy'][-1]\n",
        "print(f\"\\nFinal Training Accuracy: {final_train_accuracy:.4f}\")\n",
        "print(f\"Final Validation Accuracy: {final_val_accuracy:.4f}\")\n",
        "print(f\"Final Test Accuracy: {test_accuracy:.4f}\")"
      ]
    },
    {
      "cell_type": "markdown",
      "metadata": {
        "id": "_bQgnHWu5t2F"
      },
      "source": [
        "**Step 9: Save the Model and Make Predictions**"
      ]
    },
    {
      "cell_type": "code",
      "execution_count": 37,
      "metadata": {
        "colab": {
          "base_uri": "https://localhost:8080/"
        },
        "id": "_zbTRU5q5zoC",
        "outputId": "1af12248-1932-4e88-b776-88b47d6365f6"
      },
      "outputs": [
        {
          "output_type": "stream",
          "name": "stderr",
          "text": [
            "WARNING:absl:You are saving your model as an HDF5 file via `model.save()` or `keras.saving.save_model(model)`. This file format is considered legacy. We recommend using instead the native Keras format, e.g. `model.save('my_model.keras')` or `keras.saving.save_model(model, 'my_model.keras')`. \n"
          ]
        },
        {
          "output_type": "stream",
          "name": "stdout",
          "text": [
            "CNN Model saved as 'sentiment_analysis_cnn_model.h5'\n",
            "Tokenizer saved as 'cnn_tokenizer.pkl'\n",
            "\n",
            "Testing CNN predictions on sample reviews:\n",
            "============================================================\n",
            "\n",
            "Review 1:\n",
            "Text: One of the other reviewers has mentioned that after watching just 1 Oz episode you'll be hooked. The...\n",
            "Predicted sentiment: POSITIVE\n",
            "Confidence: 0.9907\n",
            "Raw score: 0.9907\n",
            "--------------------------------------------------\n",
            "\n",
            "Review 2:\n",
            "Text: The plot is about the death of little children. Hopper is the one who has to investigate the killing...\n",
            "Predicted sentiment: NEGATIVE\n",
            "Confidence: 0.9584\n",
            "Raw score: 0.0416\n",
            "--------------------------------------------------\n",
            "\n",
            "Review 3:\n",
            "Text: Trinity. we see his search which features other PIs, only one who he meets, who has seemingly gone m...\n",
            "Predicted sentiment: POSITIVE\n",
            "Confidence: 0.9246\n",
            "Raw score: 0.9246\n",
            "--------------------------------------------------\n",
            "\n",
            "Review 4:\n",
            "Text: No one expects the Star Trek movies to be high art, but the fans do expect a movie that is as good a...\n",
            "Predicted sentiment: NEGATIVE\n",
            "Confidence: 0.7245\n",
            "Raw score: 0.2755\n",
            "--------------------------------------------------\n",
            "\n",
            "Review 5:\n",
            "Text: Madharaasi marks a significant departure for Sivakarthikeyan, who steps into a serious, action-packe...\n",
            "Predicted sentiment: POSITIVE\n",
            "Confidence: 0.9507\n",
            "Raw score: 0.9507\n",
            "--------------------------------------------------\n"
          ]
        }
      ],
      "source": [
        "# Save the trained CNN model\n",
        "model.save('sentiment_analysis_cnn_model.h5')\n",
        "print(\"CNN Model saved as 'sentiment_analysis_cnn_model.h5'\")\n",
        "\n",
        "# Save the tokenizer\n",
        "import pickle\n",
        "with open('cnn_tokenizer.pkl', 'wb') as f:\n",
        "    pickle.dump(tokenizer, f)\n",
        "print(\"Tokenizer saved as 'cnn_tokenizer.pkl'\")\n",
        "\n",
        "# Function for predicting new reviews with CNN\n",
        "def predict_sentiment_cnn(text, model, tokenizer, max_length=300):\n",
        "    \"\"\"\n",
        "    Predict sentiment for a new review using CNN model\n",
        "    \"\"\"\n",
        "    # Clean the text\n",
        "    cleaned_text = clean_text(text)\n",
        "\n",
        "    # Convert to sequence and pad\n",
        "    sequence = tokenizer.texts_to_sequences([cleaned_text])\n",
        "    padded_sequence = pad_sequences(sequence, maxlen=max_length, padding='post', truncating='post')\n",
        "\n",
        "    # Make prediction\n",
        "    prediction = model.predict(padded_sequence, verbose=0)[0][0]\n",
        "    sentiment = 'positive' if prediction > 0.5 else 'negative'\n",
        "    confidence = prediction if prediction > 0.5 else 1 - prediction\n",
        "\n",
        "    return sentiment, confidence, prediction\n",
        "\n",
        "# Test the prediction function\n",
        "sample_reviews = [\n",
        "    \"One of the other reviewers has mentioned that after watching just 1 Oz episode you'll be hooked. They are right, as this is exactly what happened with me.<br /><br />The first thing that struck me about Oz was its brutality and unflinching scenes of violence, which set in right from the word GO. Trust me, this is not a show for the faint hearted or timid. This show pulls no punches with regards to drugs, sex or violence. Its is hardcore, in the classic use of the word.<br /><br />It is called OZ as that is the nickname given to the Oswald Maximum Security State Penitentary. It focuses mainly on Emerald City, an experimental section of the prison where all the cells have glass fronts and face inwards, so privacy is not high on the agenda. Em City is home to many..Aryans, Muslims, gangstas, Latinos, Christians, Italians, Irish and more....so scuffles, death stares, dodgy dealings and shady agreements are never far away.<br /><br />I would say the main appeal of the show is due to the fact that it goes where other shows wouldn't dare. Forget pretty pictures painted for mainstream audiences, forget charm, forget romance...OZ doesn't mess around. The first episode I ever saw struck me as so nasty it was surreal, I couldn't say I was ready for it, but as I watched more, I developed a taste for Oz, and got accustomed to the high levels of graphic violence. Not just violence, but injustice (crooked guards who'll be sold out for a nickel, inmates who'll kill on order and get away with it, well mannered, middle class inmates being turned into prison bitches due to their lack of street skills or prison experience) Watching Oz, you may become comfortable with what is uncomfortable viewing....thats if you can get in touch with your darker side.\",\n",
        "    \"The plot is about the death of little children. Hopper is the one who has to investigate the killings. During the movie it appears that he has some troubles with his daughter. In the end the serial killer get caught. That's it. But before you find out who dunnit, you have to see some terrible acting by all of the actors. It is unbelievable how bad these actors are, including Hopper. I could go on like this but that to much of a waste of my time. Just don't watch the movie. I've warned you.\",\n",
        "    \"Trinity. we see his search which features other PIs, only one who he meets, who has seemingly gone mad from his own experience trying to track Trinity down. eventually he makes contact with Trinity who he assumes to be a man of course - told in the narrative and something that firmly puts us in his own perspective despite what we already know - on a hacker chat-room, and solves a riddle which forces him in a hurry to catch a train. he forgets his hat but his faithful cat throws it to him in a moment of ludicrousness so absurd it's hilarious.<br /><br />he meets her on the train but the ruse is thereby revealed when agents attack; the agents were using him to get to Trinity and Trinity was trying to free the PIs sent after her, which he doesn't know of course, and which isn't explicitly stated in the animation itself, something common to film noir titles, which often hint at plenty of interesting back-story, subplots, developments etc. but don't show you more then the core story and a limited point of view to create an extra air of mystery and intrigue.<br /><br />almost everything in this short is in black and white, the music is reminiscent of film noir and the offbeat, old fashioned yet dedicated detective is the perfect protagonist for a film noir title. the trivia section of this title's entry on IMDb also helpfully presents a few references this title makes to hardboiled literature, something it also borrows heavily from, a genre of mysteries for detectives, gangsters etc. who engage in challenging conflicts readily and often. animated aptly by Studio 4Â°C and directed by Shinichiro Watanabe, it is an enjoyable variant on the usual matrix story.\",\n",
        "    \"No one expects the Star Trek movies to be high art, but the fans do expect a movie that is as good as some of the best episodes. Unfortunately, this movie had a muddled, implausible plot that just left me cringing - this is by far the worst of the nine (so far) movies. Even the chance to watch the well known characters interact in another movie can't save this movie - including the goofy scenes with Kirk, Spock and McCoy at Yosemite.<br /><br />I would say this movie is not worth a rental, and hardly worth watching, however for the True Fan who needs to see all the movies, renting this movie is about the only way you'll see it - even the cable channels avoid this movie.\",\n",
        "    \"Madharaasi marks a significant departure for Sivakarthikeyan, who steps into a serious, action-packed role under the direction of A.R. Murugadoss. The film, released on September 5, 2025, has garnered mixed reactions from audiences and critics alike.\"\n",
        "]\n",
        "\n",
        "print(\"\\nTesting CNN predictions on sample reviews:\")\n",
        "print(\"=\" * 60)\n",
        "for i, review in enumerate(sample_reviews, 1):\n",
        "    sentiment, confidence, score = predict_sentiment_cnn(review, model, tokenizer)\n",
        "    print(f\"\\nReview {i}:\")\n",
        "    print(f\"Text: {review[:100]}...\")\n",
        "    print(f\"Predicted sentiment: {sentiment.upper()}\")\n",
        "    print(f\"Confidence: {confidence:.4f}\")\n",
        "    print(f\"Raw score: {score:.4f}\")\n",
        "    print(\"-\" * 50)"
      ]
    }
  ],
  "metadata": {
    "colab": {
      "provenance": []
    },
    "kernelspec": {
      "display_name": "Python 3",
      "name": "python3"
    },
    "language_info": {
      "name": "python"
    }
  },
  "nbformat": 4,
  "nbformat_minor": 0
}